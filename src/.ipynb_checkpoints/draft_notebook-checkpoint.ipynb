{
 "cells": [
  {
   "cell_type": "markdown",
   "id": "13683c41",
   "metadata": {},
   "source": [
    "# Draft notebook for first ML tests"
   ]
  },
  {
   "cell_type": "code",
   "execution_count": 1,
   "id": "9fd45a62",
   "metadata": {
    "scrolled": true
   },
   "outputs": [
    {
     "name": "stdout",
     "output_type": "stream",
     "text": [
      "usage: ToolChainClassifier.py [-h] [--train] [--classifier CLASSIFIER]\r\n",
      "                              [--threshold THRESHOLD]\r\n",
      "                              [--biggest_subgraph BIGGEST_SUBGRAPH]\r\n",
      "                              [--support SUPPORT] [--nthread NTHREAD]\r\n",
      "                              [--verbose_classifier] [--ctimeout CTIMEOUT]\r\n",
      "                              [--families FAMILIES [FAMILIES ...]]\r\n",
      "                              [--mode MODE] [--epoch EPOCH]\r\n",
      "                              binaries\r\n",
      "\r\n",
      "Classification module arguments\r\n",
      "\r\n",
      "optional arguments:\r\n",
      "  -h, --help            show this help message and exit\r\n",
      "  --biggest_subgraph BIGGEST_SUBGRAPH\r\n",
      "                        Biggest subgraph consider for Gspan (default: 5)\r\n",
      "\r\n",
      "Classification module arguments:\r\n",
      "  --train               Launch training process, else classify/detect new\r\n",
      "                        sample with previously computed model\r\n",
      "  --classifier CLASSIFIER\r\n",
      "                        Classifier used for the analysis among\r\n",
      "                        (gspan,inria,wl,dl) (default : wl)\r\n",
      "  --threshold THRESHOLD\r\n",
      "                        Threshold used for the classifier [0..1] (default :\r\n",
      "                        0.45)\r\n",
      "  --support SUPPORT     Support used for the gpsan classifier [0..1] (default\r\n",
      "                        : 0.75)\r\n",
      "  --nthread NTHREAD     Number of thread used (default: max)\r\n",
      "  --verbose_classifier  Verbose output during train/classification (default :\r\n",
      "                        False)\r\n",
      "  --ctimeout CTIMEOUT   Timeout for gspan classifier (default : 3sec)\r\n",
      "  --families FAMILIES [FAMILIES ...]\r\n",
      "                        Families considered (default : ['bancteian','delf','Fe\r\n",
      "                        akerStealer','gandcrab','ircbot','lamer','nitol','RedL\r\n",
      "                        ineStealer','sfone','sillyp2p','simbot','Sodinokibi','\r\n",
      "                        sytro','upatre','wabot','RemcosRAT'])\r\n",
      "  --mode MODE           detection = binary decision cleanware vs malware OR\r\n",
      "                        classification = malware family (default)\r\n",
      "  --epoch EPOCH         Only for deep learning model: number of epoch\r\n",
      "                        (default: 5) Always 1 for FL model\r\n",
      "  binaries              Name of the folder containing binary'signatures to\r\n",
      "                        analyze (Default: output/save-SCDG/, only that for\r\n",
      "                        ToolChain)\r\n"
     ]
    }
   ],
   "source": [
    "%matplotlib inline\n",
    "%matplotlib notebook\n",
    "import os\n",
    "os.chdir('.')\n",
    "os.getcwd()\n",
    "!python3 ToolChainClassifier/ToolChainClassifier.py -h"
   ]
  },
  {
   "cell_type": "code",
   "execution_count": 62,
   "id": "43d9c8da",
   "metadata": {
    "scrolled": true
   },
   "outputs": [
    {
     "name": "stdout",
     "output_type": "stream",
     "text": [
      "\u001b[1;32;40mINFO - 2023-02-27 10:56:11,806 - ToolChainClassifier - ['databases/examples_samy/train_data/WSELECT/sytro', 'databases/examples_samy/train_data/WSELECT/sillyp2p', 'databases/examples_samy/train_data/WSELECT/ircbot', 'databases/examples_samy/train_data/WSELECT/FeakerStealer', 'databases/examples_samy/train_data/WSELECT/gandcrab', 'databases/examples_samy/train_data/WSELECT/RedLineStealer', 'databases/examples_samy/train_data/WSELECT/lamer', 'databases/examples_samy/train_data/WSELECT/delf', 'databases/examples_samy/train_data/WSELECT/sfone', 'databases/examples_samy/train_data/WSELECT/wabot', 'databases/examples_samy/train_data/WSELECT/nitol', 'databases/examples_samy/train_data/WSELECT/simbot', 'databases/examples_samy/train_data/WSELECT/RemcosRAT', 'databases/examples_samy/train_data/WSELECT/bancteian', 'databases/examples_samy/train_data/WSELECT/Sodinokibi']\u001b[0m\n",
      "\u001b[1;32;40mINFO - 2023-02-27 10:56:11,807 - ToolChainClassifier - Namespace(biggest_subgraph=5, binaries='databases/examples_samy/train_data/WSELECT', classifier='wl', ctimeout=3, epoch=5, families=None, mode='classification', nthread=8, support=0.75, threshold=0.45, train=True, verbose_classifier=False)\u001b[0m\n",
      "\u001b[1;32;40mINFO - 2023-02-27 10:56:11,968 - SVMWLClassifier - Path: databases/examples_samy/train_data/WSELECT/\u001b[0m\n",
      "  0% (0 of 15) |                         | Elapsed Time: 0:00:00 ETA:  --:--:--\u001b[1;32;40mINFO - 2023-02-27 10:56:12,200 - SVMWLClassifier - Subpath: /home/sambt/Desktop/tfe/SEMA-ToolChain/src/databases/examples_samy/train_data/WSELECT/sytro/\u001b[0m\n",
      "\u001b[1;32;40mINFO - 2023-02-27 10:56:12,203 - SVMWLClassifier - Subpath: /home/sambt/Desktop/tfe/SEMA-ToolChain/src/databases/examples_samy/train_data/WSELECT/sillyp2p/\u001b[0m\n",
      "\u001b[1;32;40mINFO - 2023-02-27 10:56:12,320 - SVMWLClassifier - Subpath: /home/sambt/Desktop/tfe/SEMA-ToolChain/src/databases/examples_samy/train_data/WSELECT/ircbot/\u001b[0m\n",
      "\u001b[1;32;40mINFO - 2023-02-27 10:56:12,323 - SVMWLClassifier - Subpath: /home/sambt/Desktop/tfe/SEMA-ToolChain/src/databases/examples_samy/train_data/WSELECT/FeakerStealer/\u001b[0m\n",
      "\u001b[1;32;40mINFO - 2023-02-27 10:56:12,361 - SVMWLClassifier - Subpath: /home/sambt/Desktop/tfe/SEMA-ToolChain/src/databases/examples_samy/train_data/WSELECT/gandcrab/\u001b[0m\n",
      "\u001b[1;32;40mINFO - 2023-02-27 10:56:12,407 - SVMWLClassifier - Subpath: /home/sambt/Desktop/tfe/SEMA-ToolChain/src/databases/examples_samy/train_data/WSELECT/RedLineStealer/\u001b[0m\n",
      "\u001b[1;32;40mINFO - 2023-02-27 10:56:12,436 - SVMWLClassifier - Subpath: /home/sambt/Desktop/tfe/SEMA-ToolChain/src/databases/examples_samy/train_data/WSELECT/lamer/\u001b[0m\n",
      "\u001b[1;32;40mINFO - 2023-02-27 10:56:13,707 - SVMWLClassifier - Subpath: /home/sambt/Desktop/tfe/SEMA-ToolChain/src/databases/examples_samy/train_data/WSELECT/delf/\u001b[0m\n",
      "\u001b[1;32;40mINFO - 2023-02-27 10:56:13,709 - SVMWLClassifier - Subpath: /home/sambt/Desktop/tfe/SEMA-ToolChain/src/databases/examples_samy/train_data/WSELECT/sfone/\u001b[0m\n",
      "\u001b[1;32;40mINFO - 2023-02-27 10:56:13,716 - SVMWLClassifier - Subpath: /home/sambt/Desktop/tfe/SEMA-ToolChain/src/databases/examples_samy/train_data/WSELECT/wabot/\u001b[0m\n",
      "\u001b[1;32;40mINFO - 2023-02-27 10:56:13,955 - SVMWLClassifier - Subpath: /home/sambt/Desktop/tfe/SEMA-ToolChain/src/databases/examples_samy/train_data/WSELECT/nitol/\u001b[0m\n",
      "\u001b[1;32;40mINFO - 2023-02-27 10:56:14,004 - SVMWLClassifier - Subpath: /home/sambt/Desktop/tfe/SEMA-ToolChain/src/databases/examples_samy/train_data/WSELECT/simbot/\u001b[0m\n",
      "\u001b[1;32;40mINFO - 2023-02-27 10:56:14,014 - SVMWLClassifier - Subpath: /home/sambt/Desktop/tfe/SEMA-ToolChain/src/databases/examples_samy/train_data/WSELECT/RemcosRAT/\u001b[0m\n",
      "\u001b[1;32;40mINFO - 2023-02-27 10:56:14,329 - SVMWLClassifier - Subpath: /home/sambt/Desktop/tfe/SEMA-ToolChain/src/databases/examples_samy/train_data/WSELECT/bancteian/\u001b[0m\n",
      "\u001b[1;32;40mINFO - 2023-02-27 10:56:14,339 - SVMWLClassifier - Subpath: /home/sambt/Desktop/tfe/SEMA-ToolChain/src/databases/examples_samy/train_data/WSELECT/Sodinokibi/\u001b[0m\n",
      "100% (15 of 15) |########################| Elapsed Time: 0:00:02 Time:  0:00:02\n",
      "\u001b[1;32;40mINFO - 2023-02-27 10:56:14,339 - SVMWLClassifier - Dataset len: 190\u001b[0m\n",
      "/home/sambt/mchlrng/lib/python3.8/site-packages/grakel/kernels/weisfeiler_lehman_optimal_assignment.py:286: RuntimeWarning: invalid value encountered in divide\n",
      "  K = np.nan_to_num(np.divide(K, np.sqrt(np.outer(self._X_diag, self._X_diag))))\n",
      "/home/sambt/mchlrng/lib/python3.8/site-packages/grakel/kernels/weisfeiler_lehman_optimal_assignment.py:431: RuntimeWarning: invalid value encountered in divide\n",
      "  K = np.nan_to_num(np.divide(K, np.sqrt(np.outer(Y_diag, X_diag))))\n",
      "\u001b[1;32;40mINFO - 2023-02-27 10:56:16,229 - SVMWLClassifier - --------------------FIT OK----------------\u001b[0m\n",
      "\u001b[1;32;40mINFO - 2023-02-27 10:56:26,888 - ToolChainClassifier - Total training time: 15.082426309585571\u001b[0m\n",
      "\u001b[1;32;40mINFO - 2023-02-27 10:56:26,888 - ToolChainClassifier - Total classification time: 15.082708358764648\u001b[0m\n"
     ]
    }
   ],
   "source": [
    "!python ToolChainClassifier/ToolChainClassifier.py --train --classifier=wl  databases/examples_samy/train_data/WSELECT"
   ]
  },
  {
   "cell_type": "code",
   "execution_count": 63,
   "id": "08d31367",
   "metadata": {
    "scrolled": false
   },
   "outputs": [
    {
     "name": "stdout",
     "output_type": "stream",
     "text": [
      "\u001b[1;32;40mINFO - 2023-02-27 10:56:28,626 - ToolChainClassifier - ['databases/examples_samy/test_data/WSELECT/sytro', 'databases/examples_samy/test_data/WSELECT/sillyp2p', 'databases/examples_samy/test_data/WSELECT/ircbot', 'databases/examples_samy/test_data/WSELECT/FeakerStealer', 'databases/examples_samy/test_data/WSELECT/gandcrab', 'databases/examples_samy/test_data/WSELECT/RedLineStealer', 'databases/examples_samy/test_data/WSELECT/lamer', 'databases/examples_samy/test_data/WSELECT/delf', 'databases/examples_samy/test_data/WSELECT/sfone', 'databases/examples_samy/test_data/WSELECT/wabot', 'databases/examples_samy/test_data/WSELECT/nitol', 'databases/examples_samy/test_data/WSELECT/simbot', 'databases/examples_samy/test_data/WSELECT/RemcosRAT', 'databases/examples_samy/test_data/WSELECT/bancteian', 'databases/examples_samy/test_data/WSELECT/Sodinokibi']\u001b[0m\n",
      "\u001b[1;32;40mINFO - 2023-02-27 10:56:28,626 - ToolChainClassifier - Namespace(biggest_subgraph=5, binaries='databases/examples_samy/test_data/WSELECT', classifier='wl', ctimeout=3, epoch=5, families=None, mode='classification', nthread=8, support=0.75, threshold=0.45, train=False, verbose_classifier=False)\u001b[0m\n",
      "100% (15 of 15) |########################| Elapsed Time: 0:00:00 Time:  0:00:00\n",
      "/home/sambt/mchlrng/lib/python3.8/site-packages/grakel/kernels/weisfeiler_lehman_optimal_assignment.py:431: RuntimeWarning: invalid value encountered in divide\n",
      "  K = np.nan_to_num(np.divide(K, np.sqrt(np.outer(Y_diag, X_diag))))\n",
      "INFO:SVMWLClassifier:Accuracy 88.73 %\n",
      "/home/sambt/mchlrng/lib/python3.8/site-packages/sklearn/metrics/_classification.py:1344: UndefinedMetricWarning: Precision is ill-defined and being set to 0.0 in labels with no predicted samples. Use `zero_division` parameter to control this behavior.\n",
      "  _warn_prf(average, modifier, msg_start, len(result))\n",
      "INFO:SVMWLClassifier:Precision 88.60 %\n",
      "INFO:SVMWLClassifier:Recall 88.73 %\n",
      "INFO:SVMWLClassifier:F1-score 87.94 %\n",
      "Figure(1000x700)\n",
      "AAAAAAHHHHHHHHHHHHHHHHHHHHHHHHHHHH\n",
      "\u001b[1;32;40mINFO - 2023-02-27 10:56:30,976 - ToolChainClassifier - Total classification time: 2.3506133556365967\u001b[0m\n"
     ]
    }
   ],
   "source": [
    "!python ToolChainClassifier/ToolChainClassifier.py --classifier=wl  databases/examples_samy/test_data/WSELECT"
   ]
  },
  {
   "cell_type": "code",
   "execution_count": 59,
   "id": "06d1cffe",
   "metadata": {},
   "outputs": [],
   "source": [
    "import pandas as pd\n",
    "import matplotlib.pyplot as plt \n",
    "import matplotlib.colors as colors\n",
    "import numpy as np"
   ]
  },
  {
   "cell_type": "code",
   "execution_count": 61,
   "id": "4070714a",
   "metadata": {
    "scrolled": false
   },
   "outputs": [
    {
     "name": "stdout",
     "output_type": "stream",
     "text": [
      "        methods   precision   recall   fscore\n",
      "0          CBFS       73.57    72.86    71.29\n",
      "1          CDFS       79.85    81.69    79.25\n",
      "2         STOCH       56.69    62.69    58.78\n",
      "3        CSTOCH       53.89    59.15    54.77\n",
      "4       CSTOCH2       59.41    63.64    59.50\n",
      "5    CSTOCHSET2       70.52    71.83    67.79\n",
      "6       WSELECT       88.85    88.73    88.06\n",
      "7      WSELECT2       75.98    80.28    76.67\n",
      "8   WSELECTSET2       70.14    73.24    68.30\n",
      "9          CBFS       74.82    78.87    75.52\n",
      "10         CDFS       35.44    44.44    36.50\n",
      "11        STOCH       73.34    69.12    66.85\n",
      "12       CSTOCH       61.23    68.06    63.64\n",
      "13      CSTOCH2       67.54    72.86    68.91\n",
      "14   CSTOCHSET2       69.21    70.83    66.41\n",
      "15      WSELECT       86.52    86.11    84.71\n",
      "16     WSELECT2       74.77    75.00    72.62\n",
      "17  WSELECTSET2       68.65    69.44    65.74\n",
      "18         CBFS       75.03    74.65    71.89\n",
      "19         CDFS       71.42    74.65    71.69\n",
      "20        STOCH       67.62    67.65    64.61\n",
      "21       CSTOCH       58.43    62.50    59.23\n",
      "22      CSTOCH2       62.19    62.86    60.70\n",
      "23   CSTOCHSET2       72.94    77.46    73.47\n",
      "24      WSELECT       88.60    88.73    87.94\n",
      "25     WSELECT2       69.64    68.06    67.78\n",
      "26  WSELECTSET2       69.95    74.65    70.70\n"
     ]
    }
   ],
   "source": [
    "df_original = pd.read_csv('./ml_stats.csv')\n",
    "print(df_original)"
   ]
  },
  {
   "cell_type": "code",
   "execution_count": null,
   "id": "3be559db",
   "metadata": {},
   "outputs": [],
   "source": [
    "titles = {\"precision\",\n",
    "          \"recall\",\n",
    "          \"f1 score\"}\n",
    "metrics = [\"precision\", \"recall\", \"fscore\"]\n",
    "\n",
    "for metric in metrics:\n",
    "    plt.figure(figsize=(16,8))\n",
    "    plt.grid(axis='y', linestyle=\"dashed\", zorder=0)\n",
    "    y1 = [df.loc[df[\"expl_method\"]==\"CSTOCH\"][metric].mean() for f in fams]\n",
    "    y2 = [df.loc[df[\"expl_method\"]==\"CSTOCH2\"][metric].mean() for f in fams]\n",
    "    y3 = [df.loc[df[\"expl_method\"]==\"CSTOCHSET2\"][metric].mean() for f in fams]\n",
    "    y4 = [df.loc[df[\"expl_method\"]==\"STOCH\"][metric].mean() for f in fams]"
   ]
  }
 ],
 "metadata": {
  "kernelspec": {
   "display_name": "Python 3 (ipykernel)",
   "language": "python",
   "name": "python3"
  },
  "language_info": {
   "codemirror_mode": {
    "name": "ipython",
    "version": 3
   },
   "file_extension": ".py",
   "mimetype": "text/x-python",
   "name": "python",
   "nbconvert_exporter": "python",
   "pygments_lexer": "ipython3",
   "version": "3.8.10"
  }
 },
 "nbformat": 4,
 "nbformat_minor": 5
}
